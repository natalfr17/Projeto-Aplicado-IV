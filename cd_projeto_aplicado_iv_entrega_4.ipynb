{
  "nbformat": 4,
  "nbformat_minor": 0,
  "metadata": {
    "kernelspec": {
      "display_name": "Python 3",
      "language": "python",
      "name": "python3"
    },
    "language_info": {
      "codemirror_mode": {
        "name": "ipython",
        "version": 3
      },
      "file_extension": ".py",
      "mimetype": "text/x-python",
      "name": "python",
      "nbconvert_exporter": "python",
      "pygments_lexer": "ipython3",
      "version": "3.7.4"
    },
    "colab": {
      "provenance": [],
      "include_colab_link": true
    }
  },
  "cells": [
    {
      "cell_type": "markdown",
      "metadata": {
        "id": "view-in-github",
        "colab_type": "text"
      },
      "source": [
        "<a href=\"https://colab.research.google.com/github/natalfr17/Projeto-Aplicado-IV/blob/main/cd_projeto_aplicado_iv_entrega_4.ipynb\" target=\"_parent\"><img src=\"https://colab.research.google.com/assets/colab-badge.svg\" alt=\"Open In Colab\"/></a>"
      ]
    },
    {
      "cell_type": "markdown",
      "metadata": {
        "id": "80CF3Eq9EXDW"
      },
      "source": [
        "  <img src=\"https://raw.githubusercontent.com/scalabrinig/cdProjetoAplicadoIV/d093146488f56dfcf0ef286bcee8efe0e71b9c76/figuras/mackenzie_logo.jpg\" width=\"25%\" align=\"right\"/>\n",
        "\n",
        "# **PROJETO APLICADO IV - Ciência de Dados EaD - 2025/01**\n",
        "\n",
        "\n",
        "# **Entrega 4**\n",
        "\n",
        "---"
      ]
    },
    {
      "cell_type": "markdown",
      "metadata": {
        "id": "40b90843"
      },
      "source": [
        "# **Título do Projeto**\n",
        "---"
      ]
    },
    {
      "cell_type": "code",
      "metadata": {
        "id": "rYx9D4GZA5o9"
      },
      "source": [
        "#@title **Grupo 3 - Taxa de Evasão no Ensino Superior**\n",
        "\n",
        "#@markdown Integrantes do Grupo, nome completo em ordem alfabética (*informe: \\, \\*)\n",
        "Aluno1 = 'ADRIANO MAMORU TAKESHITA, 10415887' #@param {type:\"string\"}\n",
        "Aluno2 = 'ISAQUE SANTA BRIGIDA PIMENTEL , 10415608' #@param {type:\"string\"}\n",
        "Aluno3 = 'NATALIA FRANÇOZO , 10415636' #@param {type:\"string\"}\n",
        "Aluno4 = 'VITOR DOMINGOS BALDOINO DOS SANTOS , 10414498' #@param {type:\"string\"}\n"
      ],
      "execution_count": null,
      "outputs": []
    },
    {
      "cell_type": "markdown",
      "source": [
        "# **Resumo**\n",
        "\n",
        "Um parágrafo no modelo de um resumo de artigo, indicando o problema que o projeto se propõe a resolver, sua relevância e o tipo de metodologia (técnicas, algoritmos, métodos, produto gerado - previsão, detecção de anomalia etc.) que se pretende aplicar para a solução."
      ],
      "metadata": {
        "id": "JlCIc2YooBW7"
      }
    },
    {
      "cell_type": "markdown",
      "source": [
        "# **Introdução**\n",
        "\n",
        "A educação de qualidade é um dos pilares dos Objetivos de Desenvolvimento Sustentável (ODS) definidos pela Organização das Nações Unidas (ONU). Em particular, o ODS 4 busca assegurar uma educação inclusiva, equitativa e de qualidade, promovendo oportunidades de aprendizado ao longo da vida para todos. Nesse contexto, o presente projeto enfoca a análise da taxa de conclusão no ensino superior, um tema central para a melhoria da qualidade educacional e o fortalecimento do desenvolvimento socioeconômico.\n",
        "\n",
        "Será desenvolvido um modelo de séries temporais com o intuito de analisar o comportamento dos alunos matriculados no ensino superior, verificando o percentual de alunos que concluem e o percentual que não conclui o curso ao longo dos anos analisados. O problema selecionado aborda a identificação das principais causas que influenciam a não conclusão dos cursos e a predição da probabilidade de alunos com determinadas características não concluírem o ensino superior.\n",
        "\n",
        "O estudo da taxa de conclusão no ensino superior mostra sua relevância ao buscar identificar e entender os fatores que influenciam a evasão acadêmica. A partir dessa compreensão, é possível desenvolver políticas e estratégias que promovam a retenção e o sucesso acadêmico dos alunos e, consequentemente, melhores oportunidades de emprego e desenvolvimento econômico e social do país.\n",
        "\n",
        "Os benefícios deste projeto podem abranger desde a melhoria na qualidade da educação até o aumento das taxas de conclusão dos cursos superiores. O potencial de aplicabilidade das soluções propostas é significativo, pois pode contribuir para a formulação de políticas públicas educacionais mais eficientes e direcionadas ou até mesmo medidas mais individualizadas aplicadas diretamente pelas Instituições de ensino, sejam públicas ou privadas.\n",
        "\n",
        "O objetivo deste projeto é desenvolver um modelo de séries temporais capaz de analisar a taxa de conclusão dos alunos no ensino superior e identificar os fatores que mais influenciam a evasão acadêmica. Além disso, busca-se prever a probabilidade de alunos com determinadas características não concluírem o curso, permitindo a criação de estratégias de intervenção mais eficazes.\n",
        "\n",
        "Como objetivos específicos, pretende-se analisar o comportamento dos alunos ao longo dos anos, verificando os percentuais de conclusão e não conclusão, identificar as causas da evasão e utilizar dados históricos do INEP¹ para construir o modelo preditivo. O estudo visa contribuir para a formulação de políticas públicas educacionais mais eficientes e estratégias direcionadas para as Instituições de Ensino, sejam públicas ou privadas, visando reduzir a evasão e melhorar as taxas de conclusão no ensino superior. ¹https://www.gov.br/inep/pt-br/acesso-a-informacao/dados-abertos/microdados/censo-da-educacao-superior"
      ],
      "metadata": {
        "id": "jx4u5FY-6UEp"
      }
    },
    {
      "cell_type": "markdown",
      "source": [
        "# **Referencial Teórico**\n",
        "\n",
        "A evasão acadêmica no ensino superior é um tema amplamente debatido na literatura científica, devido às suas implicações para a qualidade educacional e o desenvolvimento socioeconômico. Apesar disso, estudos que combinam a análise desse fenômeno com a modelagem baseada em séries temporais ainda são escassos. Essa lacuna na literatura justifica a abordagem metodológica deste trabalho e a seleção de estudos complementares que, embora não integrem todos os elementos explorados nesta pesquisa, oferecem contribuições significativas.\n",
        "\n",
        "Dentre os trabalhos identificados, destaca-se a pesquisa realizada no Instituto Federal da Paraíba (IFPB), onde a evasão foi analisada a partir de dados institucionais utilizando modelos de classificação supervisionada. Técnicas como regressão logística, árvores de decisão e redes neurais foram avaliadas, sendo a regressão logística a que apresentou maior acurácia (81,24%). Variáveis como tipo de curso, sexo, raça, renda familiar e turno das aulas foram identificadas como determinantes significativos na taxa de conclusão dos estudantes (OLIVEIRA, 2023).\n",
        "\n",
        "Complementarmente, dois estudos que aplicaram técnicas de séries temporais em diferentes contextos foram incorporados como referencial metodológico. O primeiro utilizou o modelo ARIMA para analisar inadimplências de consumidores no banco de dados do Serasa, destacando padrões históricos associados a características demográficas. O segundo empregou redes neurais artificiais para modelar índices pluviométricos com o objetivo de prever inundações no Pantanal. Ambos demonstraram a eficácia de séries temporais na identificação de padrões complexos e na previsão de eventos futuros (BARBOSA; GERMANO, 2023; KIDA; RIBEIRO, 2016).\n",
        "\n",
        "Esses estudos fornecem subsídios importantes para a construção do modelo proposto nesta pesquisa. Embora não abordem diretamente a evasão no ensino superior, suas metodologias oferecem insights teóricos e práticos aplicáveis à análise do comportamento dos estudantes ao longo do tempo, bem como à identificação dos fatores que influenciam a conclusão ou o abandono dos cursos.\n"
      ],
      "metadata": {
        "id": "5t_X-um-7n1T"
      }
    },
    {
      "cell_type": "markdown",
      "source": [
        "# **Diagrama de Solução**\n",
        "\n",
        "Coleta de Dados\n",
        "\n",
        "A coleta de dados para este estudo foi realizada utilizando os microdados disponibilizados pelo Instituto Nacional de Estudos e Pesquisas Educacionais Anísio Teixeira (INEP). Esses dados abrangem um período histórico significativo, de 1995 a 2023, e incluem informações detalhadas sobre instituições de ensino, cursos e alunos. A definição do período exato de análise será feita considerando a disponibilidade, qualidade dos dados e sua pertinência para a modelagem preditiva.\n",
        "\n",
        "Além dos dados institucionais, foram incluídos fatores socioeconômicos e acadêmicos, como faixa etária, sexo, tipo de instituição (pública ou privada), modalidade de ensino (presencial ou a distância) e indicadores de permanência estudantil. Esses fatores desempenham um papel crucial na compreensão das características que impactam a evasão acadêmica e serão utilizados para construir um modelo robusto e informativo.\n",
        "\n",
        "Processamento dos Dados\n",
        "\n",
        "O processamento dos dados segue uma abordagem sistemática e estruturada, dividida nas seguintes etapas:\n",
        "\n",
        "    Limpeza de Dados: identificação e tratamento de valores ausentes, inconsistências e duplicações, garantindo a integridade e confiabilidade das informações.\n",
        "    Transformação e Codificação: conversão de variáveis categóricas em formatos adequados para modelagem (ex.: one-hot encoding) e normalização de variáveis numéricas, quando necessário.\n",
        "    Agregação Temporal: consolidação dos dados em intervalos temporais significativos para facilitar a análise de tendências ao longo dos anos.\n",
        "    Feature Engineering: criação de novas variáveis para enriquecer a análise, como taxas de retenção por curso, indicadores de desempenho acadêmico e outras métricas relevantes que podem aprimorar o modelo preditivo.\n",
        "\n",
        "Essas etapas não apenas garantem a qualidade dos dados para aplicação no modelo, mas também potencializam a capacidade de identificar padrões e prever comportamentos futuros. Com uma base de dados bem estruturada, este projeto estará preparado para gerar insights valiosos sobre a evasão no ensino superior."
      ],
      "metadata": {
        "id": "mLIXqlmC9gu_"
      }
    },
    {
      "cell_type": "markdown",
      "source": [
        "# **EDA e Pré-processamento dos dados**\n",
        "\n",
        "A análise exploratória de dados (EAD) constitui uma etapa fundamental no processo de investigação científica, pois permite compreender a estrutura dos dados, identificar padrões, detectar anomalias e formular hipóteses iniciais. Nesta seção, são apresentados os principais resultados da AED aplicada ao conjunto de dados sobre o ensino superior brasileiro, com foco nos indicadores de ingressantes, concluintes e taxa de conclusão ao longo do período analisado."
      ],
      "metadata": {
        "id": "iyc_Xux5Gc06"
      }
    },
    {
      "cell_type": "code",
      "source": [
        "# Códigos aqui"
      ],
      "metadata": {
        "id": "uOGDS0QgGjXs"
      },
      "execution_count": null,
      "outputs": []
    },
    {
      "cell_type": "markdown",
      "source": [
        "# **Modelos**\n",
        "\n",
        "Descrição metodológica para a criação, refinamento e validação dos modelos propostos."
      ],
      "metadata": {
        "id": "_EKu2odGKlBQ"
      }
    },
    {
      "cell_type": "code",
      "source": [
        "# Códigos aqui"
      ],
      "metadata": {
        "id": "jhQKhmHQKlBR"
      },
      "execution_count": null,
      "outputs": []
    },
    {
      "cell_type": "markdown",
      "source": [
        "# **Resultados**\n",
        "\n",
        "Apresentr os resultados obtidos, métricas, tabelas comparativas, etc."
      ],
      "metadata": {
        "id": "GXUUEfHdKtpe"
      }
    },
    {
      "cell_type": "markdown",
      "source": [
        "# **Dicussão e Conclusão**\n",
        "\n",
        "Conclusões; análise crítica do trabalho (suas qualidades e limitações); alcance do objetivo inicial (a solução do problema); potenciais melhorias no projeto."
      ],
      "metadata": {
        "id": "igYUYSX8MY45"
      }
    },
    {
      "cell_type": "markdown",
      "source": [
        "# **Apresentação**\n",
        "\n",
        "Colocar os links dos vídeos."
      ],
      "metadata": {
        "id": "ufx471UaS6oc"
      }
    },
    {
      "cell_type": "markdown",
      "metadata": {
        "id": "kZ9OW5ExtM8G"
      },
      "source": [
        "# **Referências**\n",
        "\n",
        "Complementar a entrega anterior.\n",
        "\n",
        "\n"
      ]
    },
    {
      "cell_type": "code",
      "metadata": {
        "id": "BluFtfHuCGzm"
      },
      "source": [
        "#@title **Avaliação**\n",
        "Problema = 10 #@param {type:\"slider\", min:0, max:10, step:1}\n",
        "\n",
        "Metodologia = 10 #@param {type:\"slider\", min:0, max:10, step:1}\n",
        "\n",
        "Resultados = 10 #@param {type:\"slider\", min:0, max:10, step:1}\n",
        "\n",
        "Conclusao = 10 #@param {type:\"slider\", min:0, max:10, step:1}\n",
        "\n",
        "Apresentacao_geral = 10 #@param {type:\"slider\", min:0, max:10, step:1}\n",
        "\n",
        "Artigo = 10 #@param {type:\"slider\", min:0, max:10, step:1}\n",
        "\n",
        "\n",
        "\n",
        "\n",
        "\n",
        "\n",
        "\n"
      ],
      "execution_count": null,
      "outputs": []
    },
    {
      "cell_type": "code",
      "metadata": {
        "colab": {
          "base_uri": "https://localhost:8080/",
          "height": 261
        },
        "id": "2Gqw7hUZHyle",
        "outputId": "e9d2a010-09de-403d-984f-830cd0ad38d4"
      },
      "source": [
        "#@title **Nota Final**\n",
        "nota = 0.1*Problema + 0.3*Metodologia + 0.2*Resultados + 0.2*Conclusao + 0.2*Artigo\n",
        "\n",
        "print(f'Nota final do trabalho {nota :.1f}')\n",
        "\n",
        "import numpy as np\n",
        "import pandas as pd\n",
        "\n",
        "alunos = pd.DataFrame()\n",
        "\n",
        "lista_nome = []\n",
        "\n",
        "for i in range(1,6):\n",
        "  exec(\"if Aluno\" + str(i) + \" !='None':  lista = Aluno\" + str(i) + \".split(','); lista_nome.append(lista[0]);\")\n",
        "\n",
        "alunos['nome'] = lista_nome\n",
        "alunos['nota'] = np.round(nota,1)\n",
        "print()\n",
        "display(alunos)"
      ],
      "execution_count": null,
      "outputs": [
        {
          "output_type": "stream",
          "name": "stdout",
          "text": [
            "Nota final do trabalho 10.0\n",
            "\n"
          ]
        },
        {
          "output_type": "display_data",
          "data": {
            "text/plain": [
              "      nome  nota\n",
              "0  Aluno 1  10.0\n",
              "1  Aluno 2  10.0\n",
              "2  Aluno 3  10.0\n",
              "3  Aluno 4  10.0\n",
              "4  Aluno 5  10.0"
            ],
            "text/html": [
              "\n",
              "  <div id=\"df-2c354da1-acc7-4935-9294-93f4402e4e07\" class=\"colab-df-container\">\n",
              "    <div>\n",
              "<style scoped>\n",
              "    .dataframe tbody tr th:only-of-type {\n",
              "        vertical-align: middle;\n",
              "    }\n",
              "\n",
              "    .dataframe tbody tr th {\n",
              "        vertical-align: top;\n",
              "    }\n",
              "\n",
              "    .dataframe thead th {\n",
              "        text-align: right;\n",
              "    }\n",
              "</style>\n",
              "<table border=\"1\" class=\"dataframe\">\n",
              "  <thead>\n",
              "    <tr style=\"text-align: right;\">\n",
              "      <th></th>\n",
              "      <th>nome</th>\n",
              "      <th>nota</th>\n",
              "    </tr>\n",
              "  </thead>\n",
              "  <tbody>\n",
              "    <tr>\n",
              "      <th>0</th>\n",
              "      <td>Aluno 1</td>\n",
              "      <td>10.0</td>\n",
              "    </tr>\n",
              "    <tr>\n",
              "      <th>1</th>\n",
              "      <td>Aluno 2</td>\n",
              "      <td>10.0</td>\n",
              "    </tr>\n",
              "    <tr>\n",
              "      <th>2</th>\n",
              "      <td>Aluno 3</td>\n",
              "      <td>10.0</td>\n",
              "    </tr>\n",
              "    <tr>\n",
              "      <th>3</th>\n",
              "      <td>Aluno 4</td>\n",
              "      <td>10.0</td>\n",
              "    </tr>\n",
              "    <tr>\n",
              "      <th>4</th>\n",
              "      <td>Aluno 5</td>\n",
              "      <td>10.0</td>\n",
              "    </tr>\n",
              "  </tbody>\n",
              "</table>\n",
              "</div>\n",
              "    <div class=\"colab-df-buttons\">\n",
              "\n",
              "  <div class=\"colab-df-container\">\n",
              "    <button class=\"colab-df-convert\" onclick=\"convertToInteractive('df-2c354da1-acc7-4935-9294-93f4402e4e07')\"\n",
              "            title=\"Convert this dataframe to an interactive table.\"\n",
              "            style=\"display:none;\">\n",
              "\n",
              "  <svg xmlns=\"http://www.w3.org/2000/svg\" height=\"24px\" viewBox=\"0 -960 960 960\">\n",
              "    <path d=\"M120-120v-720h720v720H120Zm60-500h600v-160H180v160Zm220 220h160v-160H400v160Zm0 220h160v-160H400v160ZM180-400h160v-160H180v160Zm440 0h160v-160H620v160ZM180-180h160v-160H180v160Zm440 0h160v-160H620v160Z\"/>\n",
              "  </svg>\n",
              "    </button>\n",
              "\n",
              "  <style>\n",
              "    .colab-df-container {\n",
              "      display:flex;\n",
              "      gap: 12px;\n",
              "    }\n",
              "\n",
              "    .colab-df-convert {\n",
              "      background-color: #E8F0FE;\n",
              "      border: none;\n",
              "      border-radius: 50%;\n",
              "      cursor: pointer;\n",
              "      display: none;\n",
              "      fill: #1967D2;\n",
              "      height: 32px;\n",
              "      padding: 0 0 0 0;\n",
              "      width: 32px;\n",
              "    }\n",
              "\n",
              "    .colab-df-convert:hover {\n",
              "      background-color: #E2EBFA;\n",
              "      box-shadow: 0px 1px 2px rgba(60, 64, 67, 0.3), 0px 1px 3px 1px rgba(60, 64, 67, 0.15);\n",
              "      fill: #174EA6;\n",
              "    }\n",
              "\n",
              "    .colab-df-buttons div {\n",
              "      margin-bottom: 4px;\n",
              "    }\n",
              "\n",
              "    [theme=dark] .colab-df-convert {\n",
              "      background-color: #3B4455;\n",
              "      fill: #D2E3FC;\n",
              "    }\n",
              "\n",
              "    [theme=dark] .colab-df-convert:hover {\n",
              "      background-color: #434B5C;\n",
              "      box-shadow: 0px 1px 3px 1px rgba(0, 0, 0, 0.15);\n",
              "      filter: drop-shadow(0px 1px 2px rgba(0, 0, 0, 0.3));\n",
              "      fill: #FFFFFF;\n",
              "    }\n",
              "  </style>\n",
              "\n",
              "    <script>\n",
              "      const buttonEl =\n",
              "        document.querySelector('#df-2c354da1-acc7-4935-9294-93f4402e4e07 button.colab-df-convert');\n",
              "      buttonEl.style.display =\n",
              "        google.colab.kernel.accessAllowed ? 'block' : 'none';\n",
              "\n",
              "      async function convertToInteractive(key) {\n",
              "        const element = document.querySelector('#df-2c354da1-acc7-4935-9294-93f4402e4e07');\n",
              "        const dataTable =\n",
              "          await google.colab.kernel.invokeFunction('convertToInteractive',\n",
              "                                                    [key], {});\n",
              "        if (!dataTable) return;\n",
              "\n",
              "        const docLinkHtml = 'Like what you see? Visit the ' +\n",
              "          '<a target=\"_blank\" href=https://colab.research.google.com/notebooks/data_table.ipynb>data table notebook</a>'\n",
              "          + ' to learn more about interactive tables.';\n",
              "        element.innerHTML = '';\n",
              "        dataTable['output_type'] = 'display_data';\n",
              "        await google.colab.output.renderOutput(dataTable, element);\n",
              "        const docLink = document.createElement('div');\n",
              "        docLink.innerHTML = docLinkHtml;\n",
              "        element.appendChild(docLink);\n",
              "      }\n",
              "    </script>\n",
              "  </div>\n",
              "\n",
              "\n",
              "<div id=\"df-ba118d97-5a83-4e88-981d-3be5e4c8b222\">\n",
              "  <button class=\"colab-df-quickchart\" onclick=\"quickchart('df-ba118d97-5a83-4e88-981d-3be5e4c8b222')\"\n",
              "            title=\"Suggest charts\"\n",
              "            style=\"display:none;\">\n",
              "\n",
              "<svg xmlns=\"http://www.w3.org/2000/svg\" height=\"24px\"viewBox=\"0 0 24 24\"\n",
              "     width=\"24px\">\n",
              "    <g>\n",
              "        <path d=\"M19 3H5c-1.1 0-2 .9-2 2v14c0 1.1.9 2 2 2h14c1.1 0 2-.9 2-2V5c0-1.1-.9-2-2-2zM9 17H7v-7h2v7zm4 0h-2V7h2v10zm4 0h-2v-4h2v4z\"/>\n",
              "    </g>\n",
              "</svg>\n",
              "  </button>\n",
              "\n",
              "<style>\n",
              "  .colab-df-quickchart {\n",
              "      --bg-color: #E8F0FE;\n",
              "      --fill-color: #1967D2;\n",
              "      --hover-bg-color: #E2EBFA;\n",
              "      --hover-fill-color: #174EA6;\n",
              "      --disabled-fill-color: #AAA;\n",
              "      --disabled-bg-color: #DDD;\n",
              "  }\n",
              "\n",
              "  [theme=dark] .colab-df-quickchart {\n",
              "      --bg-color: #3B4455;\n",
              "      --fill-color: #D2E3FC;\n",
              "      --hover-bg-color: #434B5C;\n",
              "      --hover-fill-color: #FFFFFF;\n",
              "      --disabled-bg-color: #3B4455;\n",
              "      --disabled-fill-color: #666;\n",
              "  }\n",
              "\n",
              "  .colab-df-quickchart {\n",
              "    background-color: var(--bg-color);\n",
              "    border: none;\n",
              "    border-radius: 50%;\n",
              "    cursor: pointer;\n",
              "    display: none;\n",
              "    fill: var(--fill-color);\n",
              "    height: 32px;\n",
              "    padding: 0;\n",
              "    width: 32px;\n",
              "  }\n",
              "\n",
              "  .colab-df-quickchart:hover {\n",
              "    background-color: var(--hover-bg-color);\n",
              "    box-shadow: 0 1px 2px rgba(60, 64, 67, 0.3), 0 1px 3px 1px rgba(60, 64, 67, 0.15);\n",
              "    fill: var(--button-hover-fill-color);\n",
              "  }\n",
              "\n",
              "  .colab-df-quickchart-complete:disabled,\n",
              "  .colab-df-quickchart-complete:disabled:hover {\n",
              "    background-color: var(--disabled-bg-color);\n",
              "    fill: var(--disabled-fill-color);\n",
              "    box-shadow: none;\n",
              "  }\n",
              "\n",
              "  .colab-df-spinner {\n",
              "    border: 2px solid var(--fill-color);\n",
              "    border-color: transparent;\n",
              "    border-bottom-color: var(--fill-color);\n",
              "    animation:\n",
              "      spin 1s steps(1) infinite;\n",
              "  }\n",
              "\n",
              "  @keyframes spin {\n",
              "    0% {\n",
              "      border-color: transparent;\n",
              "      border-bottom-color: var(--fill-color);\n",
              "      border-left-color: var(--fill-color);\n",
              "    }\n",
              "    20% {\n",
              "      border-color: transparent;\n",
              "      border-left-color: var(--fill-color);\n",
              "      border-top-color: var(--fill-color);\n",
              "    }\n",
              "    30% {\n",
              "      border-color: transparent;\n",
              "      border-left-color: var(--fill-color);\n",
              "      border-top-color: var(--fill-color);\n",
              "      border-right-color: var(--fill-color);\n",
              "    }\n",
              "    40% {\n",
              "      border-color: transparent;\n",
              "      border-right-color: var(--fill-color);\n",
              "      border-top-color: var(--fill-color);\n",
              "    }\n",
              "    60% {\n",
              "      border-color: transparent;\n",
              "      border-right-color: var(--fill-color);\n",
              "    }\n",
              "    80% {\n",
              "      border-color: transparent;\n",
              "      border-right-color: var(--fill-color);\n",
              "      border-bottom-color: var(--fill-color);\n",
              "    }\n",
              "    90% {\n",
              "      border-color: transparent;\n",
              "      border-bottom-color: var(--fill-color);\n",
              "    }\n",
              "  }\n",
              "</style>\n",
              "\n",
              "  <script>\n",
              "    async function quickchart(key) {\n",
              "      const quickchartButtonEl =\n",
              "        document.querySelector('#' + key + ' button');\n",
              "      quickchartButtonEl.disabled = true;  // To prevent multiple clicks.\n",
              "      quickchartButtonEl.classList.add('colab-df-spinner');\n",
              "      try {\n",
              "        const charts = await google.colab.kernel.invokeFunction(\n",
              "            'suggestCharts', [key], {});\n",
              "      } catch (error) {\n",
              "        console.error('Error during call to suggestCharts:', error);\n",
              "      }\n",
              "      quickchartButtonEl.classList.remove('colab-df-spinner');\n",
              "      quickchartButtonEl.classList.add('colab-df-quickchart-complete');\n",
              "    }\n",
              "    (() => {\n",
              "      let quickchartButtonEl =\n",
              "        document.querySelector('#df-ba118d97-5a83-4e88-981d-3be5e4c8b222 button');\n",
              "      quickchartButtonEl.style.display =\n",
              "        google.colab.kernel.accessAllowed ? 'block' : 'none';\n",
              "    })();\n",
              "  </script>\n",
              "</div>\n",
              "\n",
              "  <div id=\"id_48b756e1-75e7-4c0f-9e30-99cc889ccb9a\">\n",
              "    <style>\n",
              "      .colab-df-generate {\n",
              "        background-color: #E8F0FE;\n",
              "        border: none;\n",
              "        border-radius: 50%;\n",
              "        cursor: pointer;\n",
              "        display: none;\n",
              "        fill: #1967D2;\n",
              "        height: 32px;\n",
              "        padding: 0 0 0 0;\n",
              "        width: 32px;\n",
              "      }\n",
              "\n",
              "      .colab-df-generate:hover {\n",
              "        background-color: #E2EBFA;\n",
              "        box-shadow: 0px 1px 2px rgba(60, 64, 67, 0.3), 0px 1px 3px 1px rgba(60, 64, 67, 0.15);\n",
              "        fill: #174EA6;\n",
              "      }\n",
              "\n",
              "      [theme=dark] .colab-df-generate {\n",
              "        background-color: #3B4455;\n",
              "        fill: #D2E3FC;\n",
              "      }\n",
              "\n",
              "      [theme=dark] .colab-df-generate:hover {\n",
              "        background-color: #434B5C;\n",
              "        box-shadow: 0px 1px 3px 1px rgba(0, 0, 0, 0.15);\n",
              "        filter: drop-shadow(0px 1px 2px rgba(0, 0, 0, 0.3));\n",
              "        fill: #FFFFFF;\n",
              "      }\n",
              "    </style>\n",
              "    <button class=\"colab-df-generate\" onclick=\"generateWithVariable('alunos')\"\n",
              "            title=\"Generate code using this dataframe.\"\n",
              "            style=\"display:none;\">\n",
              "\n",
              "  <svg xmlns=\"http://www.w3.org/2000/svg\" height=\"24px\"viewBox=\"0 0 24 24\"\n",
              "       width=\"24px\">\n",
              "    <path d=\"M7,19H8.4L18.45,9,17,7.55,7,17.6ZM5,21V16.75L18.45,3.32a2,2,0,0,1,2.83,0l1.4,1.43a1.91,1.91,0,0,1,.58,1.4,1.91,1.91,0,0,1-.58,1.4L9.25,21ZM18.45,9,17,7.55Zm-12,3A5.31,5.31,0,0,0,4.9,8.1,5.31,5.31,0,0,0,1,6.5,5.31,5.31,0,0,0,4.9,4.9,5.31,5.31,0,0,0,6.5,1,5.31,5.31,0,0,0,8.1,4.9,5.31,5.31,0,0,0,12,6.5,5.46,5.46,0,0,0,6.5,12Z\"/>\n",
              "  </svg>\n",
              "    </button>\n",
              "    <script>\n",
              "      (() => {\n",
              "      const buttonEl =\n",
              "        document.querySelector('#id_48b756e1-75e7-4c0f-9e30-99cc889ccb9a button.colab-df-generate');\n",
              "      buttonEl.style.display =\n",
              "        google.colab.kernel.accessAllowed ? 'block' : 'none';\n",
              "\n",
              "      buttonEl.onclick = () => {\n",
              "        google.colab.notebook.generateWithVariable('alunos');\n",
              "      }\n",
              "      })();\n",
              "    </script>\n",
              "  </div>\n",
              "\n",
              "    </div>\n",
              "  </div>\n"
            ],
            "application/vnd.google.colaboratory.intrinsic+json": {
              "type": "dataframe",
              "variable_name": "alunos",
              "summary": "{\n  \"name\": \"alunos\",\n  \"rows\": 5,\n  \"fields\": [\n    {\n      \"column\": \"nome\",\n      \"properties\": {\n        \"dtype\": \"string\",\n        \"num_unique_values\": 5,\n        \"samples\": [\n          \"Aluno 2\",\n          \"Aluno 5\",\n          \"Aluno 3\"\n        ],\n        \"semantic_type\": \"\",\n        \"description\": \"\"\n      }\n    },\n    {\n      \"column\": \"nota\",\n      \"properties\": {\n        \"dtype\": \"number\",\n        \"std\": 0.0,\n        \"min\": 10.0,\n        \"max\": 10.0,\n        \"num_unique_values\": 1,\n        \"samples\": [\n          10.0\n        ],\n        \"semantic_type\": \"\",\n        \"description\": \"\"\n      }\n    }\n  ]\n}"
            }
          },
          "metadata": {}
        }
      ]
    }
  ]
}